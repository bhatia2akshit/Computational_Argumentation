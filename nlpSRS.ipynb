{
  "nbformat": 4,
  "nbformat_minor": 0,
  "metadata": {
    "colab": {
      "name": "nlpSRS.ipynb",
      "provenance": []
    },
    "kernelspec": {
      "name": "python3",
      "display_name": "Python 3"
    }
  },
  "cells": [
    {
      "cell_type": "code",
      "metadata": {
        "id": "IqkOzjVB8raS"
      },
      "source": [
        "import nltk"
      ],
      "execution_count": 1,
      "outputs": []
    },
    {
      "cell_type": "code",
      "metadata": {
        "id": "U7GpRn-r8sb_"
      },
      "source": [
        "file = open('SRS.txt',encoding='utf-8')"
      ],
      "execution_count": 2,
      "outputs": []
    },
    {
      "cell_type": "code",
      "metadata": {
        "id": "IKOUtJw79ALK"
      },
      "source": [
        "data=file.read()"
      ],
      "execution_count": 3,
      "outputs": []
    },
    {
      "cell_type": "code",
      "metadata": {
        "colab": {
          "base_uri": "https://localhost:8080/"
        },
        "id": "-lwWkwbF9C31",
        "outputId": "487ed62a-3884-4834-8a69-a72db6d3224d"
      },
      "source": [
        "from nltk.tokenize import word_tokenize, sent_tokenize\r\n",
        "from nltk.stem import WordNetLemmatizer\r\n",
        "from nltk.tag import pos_tag\r\n",
        "from nltk.corpus import stopwords\r\n",
        "from sklearn.feature_extraction.text import TfidfVectorizer\r\n",
        "\r\n",
        "nltk.download('averaged_perceptron_tagger')"
      ],
      "execution_count": 16,
      "outputs": [
        {
          "output_type": "stream",
          "text": [
            "[nltk_data] Downloading package averaged_perceptron_tagger to\n",
            "[nltk_data]     /root/nltk_data...\n",
            "[nltk_data]   Unzipping taggers/averaged_perceptron_tagger.zip.\n"
          ],
          "name": "stdout"
        },
        {
          "output_type": "execute_result",
          "data": {
            "text/plain": [
              "True"
            ]
          },
          "metadata": {
            "tags": []
          },
          "execution_count": 16
        }
      ]
    },
    {
      "cell_type": "code",
      "metadata": {
        "id": "zmDDTyP8DrPO"
      },
      "source": [
        "stop_words = stopwords.words('english')\r\n",
        "stop_words.append('.')\r\n",
        "stop_words.append('•')\r\n",
        "stop_words.append('’')"
      ],
      "execution_count": 90,
      "outputs": []
    },
    {
      "cell_type": "code",
      "metadata": {
        "colab": {
          "base_uri": "https://localhost:8080/"
        },
        "id": "8cvwVLCg9m2f",
        "outputId": "aba98b02-3dcb-455b-bca3-1da98d7d5c77"
      },
      "source": [
        "sentences = sent_tokenize(data)\r\n",
        "lemma = WordNetLemmatizer()\r\n",
        "noun_sentences = list()\r\n",
        "for sentence in sentences:\r\n",
        "    \r\n",
        "    tokens = word_tokenize(sentence)\r\n",
        "    tokens= [lemma.lemmatize(token.lower()) for token in tokens if token.lower() not in stop_words if pos_tag([token.lower()])[0][1] == 'NN']\r\n",
        "    noun_sentence = ' '.join(tokens)\r\n",
        "    noun_sentences.append(noun_sentence)\r\n",
        "\r\n",
        "len(noun_sentences)"
      ],
      "execution_count": 107,
      "outputs": [
        {
          "output_type": "execute_result",
          "data": {
            "text/plain": [
              "56"
            ]
          },
          "metadata": {
            "tags": []
          },
          "execution_count": 107
        }
      ]
    },
    {
      "cell_type": "code",
      "metadata": {
        "id": "6X0M2Wkh_Qv6"
      },
      "source": [
        "# run tfidf on words for each sentence\r\n",
        "cv=TfidfVectorizer()\r\n",
        "x=cv.fit_transform(noun_sentences).toarray()"
      ],
      "execution_count": 128,
      "outputs": []
    },
    {
      "cell_type": "code",
      "metadata": {
        "id": "RaTNDuHK_1Wh"
      },
      "source": [
        "vocab = list(cv.vocabulary_.keys())\r\n",
        "values = cv.idf_.tolist()"
      ],
      "execution_count": 155,
      "outputs": []
    },
    {
      "cell_type": "code",
      "metadata": {
        "id": "L94Dt8PU_2WB"
      },
      "source": [
        "import pandas as pd\r\n",
        "df = pd.DataFrame({'vocab':vocab, 'values':values}, columns = ['vocab', 'values'])\r\n"
      ],
      "execution_count": 147,
      "outputs": []
    },
    {
      "cell_type": "code",
      "metadata": {
        "id": "KMYXX-LZNXx-"
      },
      "source": [
        "df_sorted = df.sort_values(by=['values'], ascending=False)"
      ],
      "execution_count": 153,
      "outputs": []
    },
    {
      "cell_type": "code",
      "metadata": {
        "colab": {
          "base_uri": "https://localhost:8080/",
          "height": 1000
        },
        "id": "xXkQsbhSQow6",
        "outputId": "d6ff86d5-ed84-4e28-f6a1-08ab356a2fe4"
      },
      "source": [
        "df_sorted[0:50]"
      ],
      "execution_count": 154,
      "outputs": [
        {
          "output_type": "execute_result",
          "data": {
            "text/html": [
              "<div>\n",
              "<style scoped>\n",
              "    .dataframe tbody tr th:only-of-type {\n",
              "        vertical-align: middle;\n",
              "    }\n",
              "\n",
              "    .dataframe tbody tr th {\n",
              "        vertical-align: top;\n",
              "    }\n",
              "\n",
              "    .dataframe thead th {\n",
              "        text-align: right;\n",
              "    }\n",
              "</style>\n",
              "<table border=\"1\" class=\"dataframe\">\n",
              "  <thead>\n",
              "    <tr style=\"text-align: right;\">\n",
              "      <th></th>\n",
              "      <th>vocab</th>\n",
              "      <th>values</th>\n",
              "    </tr>\n",
              "  </thead>\n",
              "  <tbody>\n",
              "    <tr>\n",
              "      <th>0</th>\n",
              "      <td>section</td>\n",
              "      <td>4.349904</td>\n",
              "    </tr>\n",
              "    <tr>\n",
              "      <th>64</th>\n",
              "      <td>ask</td>\n",
              "      <td>4.349904</td>\n",
              "    </tr>\n",
              "    <tr>\n",
              "      <th>75</th>\n",
              "      <td>cancellation</td>\n",
              "      <td>4.349904</td>\n",
              "    </tr>\n",
              "    <tr>\n",
              "      <th>71</th>\n",
              "      <td>retrieve</td>\n",
              "      <td>4.349904</td>\n",
              "    </tr>\n",
              "    <tr>\n",
              "      <th>70</th>\n",
              "      <td>create</td>\n",
              "      <td>4.349904</td>\n",
              "    </tr>\n",
              "    <tr>\n",
              "      <th>68</th>\n",
              "      <td>perform</td>\n",
              "      <td>4.349904</td>\n",
              "    </tr>\n",
              "    <tr>\n",
              "      <th>66</th>\n",
              "      <td>show</td>\n",
              "      <td>4.349904</td>\n",
              "    </tr>\n",
              "    <tr>\n",
              "      <th>65</th>\n",
              "      <td>help</td>\n",
              "      <td>4.349904</td>\n",
              "    </tr>\n",
              "    <tr>\n",
              "      <th>62</th>\n",
              "      <td>restaurant</td>\n",
              "      <td>4.349904</td>\n",
              "    </tr>\n",
              "    <tr>\n",
              "      <th>35</th>\n",
              "      <td>place</td>\n",
              "      <td>4.349904</td>\n",
              "    </tr>\n",
              "    <tr>\n",
              "      <th>61</th>\n",
              "      <td>service</td>\n",
              "      <td>4.349904</td>\n",
              "    </tr>\n",
              "    <tr>\n",
              "      <th>54</th>\n",
              "      <td>select</td>\n",
              "      <td>4.349904</td>\n",
              "    </tr>\n",
              "    <tr>\n",
              "      <th>53</th>\n",
              "      <td>scroll</td>\n",
              "      <td>4.349904</td>\n",
              "    </tr>\n",
              "    <tr>\n",
              "      <th>48</th>\n",
              "      <td>moreover</td>\n",
              "      <td>4.349904</td>\n",
              "    </tr>\n",
              "    <tr>\n",
              "      <th>44</th>\n",
              "      <td>modify</td>\n",
              "      <td>4.349904</td>\n",
              "    </tr>\n",
              "    <tr>\n",
              "      <th>43</th>\n",
              "      <td>change</td>\n",
              "      <td>4.349904</td>\n",
              "    </tr>\n",
              "    <tr>\n",
              "      <th>78</th>\n",
              "      <td>interact</td>\n",
              "      <td>4.349904</td>\n",
              "    </tr>\n",
              "    <tr>\n",
              "      <th>79</th>\n",
              "      <td>store</td>\n",
              "      <td>4.349904</td>\n",
              "    </tr>\n",
              "    <tr>\n",
              "      <th>81</th>\n",
              "      <td>begin</td>\n",
              "      <td>4.349904</td>\n",
              "    </tr>\n",
              "    <tr>\n",
              "      <th>82</th>\n",
              "      <td>whenever</td>\n",
              "      <td>4.349904</td>\n",
              "    </tr>\n",
              "    <tr>\n",
              "      <th>83</th>\n",
              "      <td>specialty</td>\n",
              "      <td>4.349904</td>\n",
              "    </tr>\n",
              "    <tr>\n",
              "      <th>85</th>\n",
              "      <td>present</td>\n",
              "      <td>4.349904</td>\n",
              "    </tr>\n",
              "    <tr>\n",
              "      <th>86</th>\n",
              "      <td>prepare</td>\n",
              "      <td>4.349904</td>\n",
              "    </tr>\n",
              "    <tr>\n",
              "      <th>87</th>\n",
              "      <td>name</td>\n",
              "      <td>4.349904</td>\n",
              "    </tr>\n",
              "    <tr>\n",
              "      <th>88</th>\n",
              "      <td>address</td>\n",
              "      <td>4.349904</td>\n",
              "    </tr>\n",
              "    <tr>\n",
              "      <th>89</th>\n",
              "      <td>input</td>\n",
              "      <td>4.349904</td>\n",
              "    </tr>\n",
              "    <tr>\n",
              "      <th>90</th>\n",
              "      <td>pay</td>\n",
              "      <td>4.349904</td>\n",
              "    </tr>\n",
              "    <tr>\n",
              "      <th>95</th>\n",
              "      <td>tab</td>\n",
              "      <td>4.349904</td>\n",
              "    </tr>\n",
              "    <tr>\n",
              "      <th>97</th>\n",
              "      <td>server</td>\n",
              "      <td>4.349904</td>\n",
              "    </tr>\n",
              "    <tr>\n",
              "      <th>98</th>\n",
              "      <td>appropriate</td>\n",
              "      <td>4.349904</td>\n",
              "    </tr>\n",
              "    <tr>\n",
              "      <th>99</th>\n",
              "      <td>area</td>\n",
              "      <td>4.349904</td>\n",
              "    </tr>\n",
              "    <tr>\n",
              "      <th>104</th>\n",
              "      <td>assumption</td>\n",
              "      <td>4.349904</td>\n",
              "    </tr>\n",
              "    <tr>\n",
              "      <th>105</th>\n",
              "      <td>hardware</td>\n",
              "      <td>4.349904</td>\n",
              "    </tr>\n",
              "    <tr>\n",
              "      <th>39</th>\n",
              "      <td>kitchen</td>\n",
              "      <td>4.349904</td>\n",
              "    </tr>\n",
              "    <tr>\n",
              "      <th>109</th>\n",
              "      <td>state</td>\n",
              "      <td>4.349904</td>\n",
              "    </tr>\n",
              "    <tr>\n",
              "      <th>34</th>\n",
              "      <td>price</td>\n",
              "      <td>4.349904</td>\n",
              "    </tr>\n",
              "    <tr>\n",
              "      <th>8</th>\n",
              "      <td>user</td>\n",
              "      <td>4.349904</td>\n",
              "    </tr>\n",
              "    <tr>\n",
              "      <th>20</th>\n",
              "      <td>food</td>\n",
              "      <td>4.349904</td>\n",
              "    </tr>\n",
              "    <tr>\n",
              "      <th>21</th>\n",
              "      <td>order</td>\n",
              "      <td>4.349904</td>\n",
              "    </tr>\n",
              "    <tr>\n",
              "      <th>22</th>\n",
              "      <td>customer</td>\n",
              "      <td>4.349904</td>\n",
              "    </tr>\n",
              "    <tr>\n",
              "      <th>23</th>\n",
              "      <td>manager</td>\n",
              "      <td>4.349904</td>\n",
              "    </tr>\n",
              "    <tr>\n",
              "      <th>17</th>\n",
              "      <td>database</td>\n",
              "      <td>4.349904</td>\n",
              "    </tr>\n",
              "    <tr>\n",
              "      <th>16</th>\n",
              "      <td>firebase</td>\n",
              "      <td>4.349904</td>\n",
              "    </tr>\n",
              "    <tr>\n",
              "      <th>26</th>\n",
              "      <td>admin</td>\n",
              "      <td>4.349904</td>\n",
              "    </tr>\n",
              "    <tr>\n",
              "      <th>27</th>\n",
              "      <td>see</td>\n",
              "      <td>4.349904</td>\n",
              "    </tr>\n",
              "    <tr>\n",
              "      <th>14</th>\n",
              "      <td>software</td>\n",
              "      <td>4.349904</td>\n",
              "    </tr>\n",
              "    <tr>\n",
              "      <th>12</th>\n",
              "      <td>process</td>\n",
              "      <td>4.349904</td>\n",
              "    </tr>\n",
              "    <tr>\n",
              "      <th>11</th>\n",
              "      <td>attempt</td>\n",
              "      <td>4.349904</td>\n",
              "    </tr>\n",
              "    <tr>\n",
              "      <th>10</th>\n",
              "      <td>app</td>\n",
              "      <td>4.349904</td>\n",
              "    </tr>\n",
              "    <tr>\n",
              "      <th>29</th>\n",
              "      <td>status</td>\n",
              "      <td>4.349904</td>\n",
              "    </tr>\n",
              "  </tbody>\n",
              "</table>\n",
              "</div>"
            ],
            "text/plain": [
              "            vocab    values\n",
              "0         section  4.349904\n",
              "64            ask  4.349904\n",
              "75   cancellation  4.349904\n",
              "71       retrieve  4.349904\n",
              "70         create  4.349904\n",
              "68        perform  4.349904\n",
              "66           show  4.349904\n",
              "65           help  4.349904\n",
              "62     restaurant  4.349904\n",
              "35          place  4.349904\n",
              "61        service  4.349904\n",
              "54         select  4.349904\n",
              "53         scroll  4.349904\n",
              "48       moreover  4.349904\n",
              "44         modify  4.349904\n",
              "43         change  4.349904\n",
              "78       interact  4.349904\n",
              "79          store  4.349904\n",
              "81          begin  4.349904\n",
              "82       whenever  4.349904\n",
              "83      specialty  4.349904\n",
              "85        present  4.349904\n",
              "86        prepare  4.349904\n",
              "87           name  4.349904\n",
              "88        address  4.349904\n",
              "89          input  4.349904\n",
              "90            pay  4.349904\n",
              "95            tab  4.349904\n",
              "97         server  4.349904\n",
              "98    appropriate  4.349904\n",
              "99           area  4.349904\n",
              "104    assumption  4.349904\n",
              "105      hardware  4.349904\n",
              "39        kitchen  4.349904\n",
              "109         state  4.349904\n",
              "34          price  4.349904\n",
              "8            user  4.349904\n",
              "20           food  4.349904\n",
              "21          order  4.349904\n",
              "22       customer  4.349904\n",
              "23        manager  4.349904\n",
              "17       database  4.349904\n",
              "16       firebase  4.349904\n",
              "26          admin  4.349904\n",
              "27            see  4.349904\n",
              "14       software  4.349904\n",
              "12        process  4.349904\n",
              "11        attempt  4.349904\n",
              "10            app  4.349904\n",
              "29         status  4.349904"
            ]
          },
          "metadata": {
            "tags": []
          },
          "execution_count": 154
        }
      ]
    },
    {
      "cell_type": "markdown",
      "metadata": {
        "id": "pJLLAU81QulE"
      },
      "source": [
        ""
      ]
    }
  ]
}
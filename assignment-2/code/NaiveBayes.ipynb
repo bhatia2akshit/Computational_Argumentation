{
 "cells": [
  {
   "cell_type": "markdown",
   "metadata": {},
   "source": [
    "### for 7 classes"
   ]
  },
  {
   "cell_type": "code",
   "execution_count": 156,
   "metadata": {},
   "outputs": [
    {
     "name": "stdout",
     "output_type": "stream",
     "text": [
      "testing is done on  3480\n",
      "training is finished\n"
     ]
    }
   ],
   "source": [
    "import re\n",
    "import pandas as pd\n",
    "\n",
    "df_train = pd.read_csv('./trainBIO.txt',sep='\\t',header=None)\n",
    "df_train.columns=['token','class']\n",
    "\n",
    "totalDocs = len(df_train)\n",
    "\n",
    "df_test = pd.read_csv('./testBIO.txt',sep='\\t',header=None)\n",
    "df_test.columns=['token','class']\n",
    "df_test['token'] = df_test['token'].str.lower()\n",
    "\n",
    "\n",
    "prior=dict()\n",
    "##prior prob on 'O'\n",
    "countOthers = len(df_train[df_train['class']=='O'])\n",
    "prior['O'] = countOthers/totalDocs\n",
    "\n",
    "#calculating the prior prob of class= MAJOR-CLAIM\n",
    "countBMajor = len(df_train[df_train['class'] == 'B-MAJOR-CLAIM'])\n",
    "countIMajor = len(df_train[df_train['class'] == 'I-MAJOR-CLAIM'])\n",
    "prior['I-MAJOR-CLAIM'] = (countIMajor)/totalDocs\n",
    "prior['B-MAJOR-CLAIM'] = (countBMajor)/totalDocs\n",
    "#calculating the prior prob of class= Premise\n",
    "\n",
    "countBPremise = len(df_train[df_train['class'] == 'B-PREMISE'])\n",
    "countIPremise = len(df_train[df_train['class'] == 'I-PREMISE'])\n",
    "prior['I-PREMISE'] = (countIPremise)/totalDocs\n",
    "prior['B-PREMISE'] = (countBPremise)/totalDocs\n",
    "#calculating the prior prob of class= CLAIM\n",
    "countBClaim = len(df_train[df_train['class'] == 'B-CLAIM'])\n",
    "countIClaim = len(df_train[df_train['class'] == 'I-CLAIM'])\n",
    "prior['I-CLAIM'] = (countIClaim)/totalDocs\n",
    "prior['B-CLAIM'] = (countBClaim)/totalDocs\n",
    "\n",
    "\n",
    "\n",
    "posteriorProb = dict()\n",
    "listTokens = df_test['token'].values.tolist()\n",
    "classes = ['I-CLAIM', 'O', 'I-MAJOR-CLAIM', 'I-PREMISE','B-CLAIM','B-PREMISE','B-MAJOR-CLAIM']\n",
    "\n",
    "\n",
    "# this method would return posterior prob of each word given the class for each class\n",
    "def posterProb1(token):\n",
    "    max = 0\n",
    "    maxCl = ''\n",
    "    totalTokenFreq = len(df_train[df_train['token'] == token])\n",
    "    if totalTokenFreq == 0:\n",
    "        return 'O'\n",
    "    for cl in classes:\n",
    "        probability = countClassToken(token, cl) * prior[cl] / totalTokenFreq\n",
    "        if probability > max:\n",
    "            max = probability\n",
    "            maxCl = cl\n",
    "    posteriorProb[token] = maxCl\n",
    "    return maxCl\n",
    "\n",
    "\n",
    "\n",
    "\n",
    "\n",
    "def countClassToken(token, classe):\n",
    "    return len(df_train[(df_train['token'] == token) & (df_train['class'] == classe)])\n",
    "\n",
    "\n",
    "\n",
    "i=0\n",
    "flag=True\n",
    "\n",
    "setTokens = set(listTokens)\n",
    "print('testing is done on ',len(setTokens))\n",
    "for token in setTokens:\n",
    "    posteriorProb[token] = posterProb1(token)\n",
    "print('training is finished')\n",
    "\n",
    "\n"
   ]
  },
  {
   "cell_type": "code",
   "execution_count": 157,
   "metadata": {},
   "outputs": [],
   "source": [
    "\n",
    "\n",
    "dfTestOrig = pd.read_csv('./testBIO.txt',sep='\\t',header=None)\n",
    "dfTestOrig.columns = ['tokens','class']\n",
    "listOriTest = dfTestOrig['tokens'].values.tolist()\n",
    "\n",
    "# fileS=open('./results.txt','w')\n",
    "fileS = open('./resultsNew.txt', 'w')\n",
    "for token in listOriTest:\n",
    "    #     print(token.lower())\n",
    "    classLabel = ''\n",
    "    if (token != token):\n",
    "        print(' ', '\\t', 'O', file=fileS)\n",
    "        continue\n",
    "        \n",
    "    elif token in ('__END_PARAGRAPH__'):# '.', '?'):\n",
    "#         flag = True\n",
    "#         if token == '.':\n",
    "        classLabel = 'O'\n",
    "    else:\n",
    "        classLabel = posteriorProb[token.lower()]\n",
    "\n",
    "\n",
    "#         '+classLabel)\n",
    "    print(str(token) + '\\t' + classLabel, file=fileS)\n",
    "fileS.close()\n",
    "\n",
    "\n"
   ]
  },
  {
   "cell_type": "code",
   "execution_count": null,
   "metadata": {},
   "outputs": [],
   "source": []
  }
 ],
 "metadata": {
  "kernelspec": {
   "display_name": "Python 3",
   "language": "python",
   "name": "python3"
  },
  "language_info": {
   "codemirror_mode": {
    "name": "ipython",
    "version": 3
   },
   "file_extension": ".py",
   "mimetype": "text/x-python",
   "name": "python",
   "nbconvert_exporter": "python",
   "pygments_lexer": "ipython3",
   "version": "3.7.6"
  }
 },
 "nbformat": 4,
 "nbformat_minor": 4
}

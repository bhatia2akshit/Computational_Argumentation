{
 "cells": [
  {
   "cell_type": "code",
   "execution_count": 1,
   "metadata": {},
   "outputs": [],
   "source": [
    "import tensorflow as tf\n",
    "import tensorflow_hub as hub\n",
    "import numpy as np\n",
    "\n",
    "embed = hub.load(\"https://tfhub.dev/google/universal-sentence-encoder/4\")"
   ]
  },
  {
   "cell_type": "code",
   "execution_count": 2,
   "metadata": {},
   "outputs": [],
   "source": [
    "import numpy as np\n",
    "import pandas as pd\n",
    "import spacy\n",
    "import en_core_web_sm\n",
    "nlp = en_core_web_sm.load()\n",
    "\n",
    "\n",
    "data=pd.read_json('./../data/essay_prompt_corpus.json')\n",
    "train_test_id=pd.read_csv('./../data/train-test-split.csv',sep=\";\")\n",
    "train_id = train_test_id[train_test_id.SET == 'TRAIN'].index\n",
    "test_id = train_test_id[train_test_id.SET == 'TEST'].index\n",
    "train=data.loc[data['id'].isin(train_id+1)]\n",
    "test=data.loc[data['id'].isin(test_id+1)]\n",
    "train.to_json('./../data/train_essay.json',orient = 'records')\n",
    "test.to_json('./../data/test_essay.json',orient = 'records')\n",
    "\n",
    "essayText = \"\"\n",
    "trainFile = './../data/train_essay.json';\n",
    "testFile = './../data/test_essay.json'\n",
    "jsonFileInput = pd.read_json(trainFile, 'r')"
   ]
  },
  {
   "cell_type": "code",
   "execution_count": 3,
   "metadata": {
    "scrolled": true
   },
   "outputs": [
    {
     "data": {
      "text/html": [
       "<div>\n",
       "<style scoped>\n",
       "    .dataframe tbody tr th:only-of-type {\n",
       "        vertical-align: middle;\n",
       "    }\n",
       "\n",
       "    .dataframe tbody tr th {\n",
       "        vertical-align: top;\n",
       "    }\n",
       "\n",
       "    .dataframe thead th {\n",
       "        text-align: right;\n",
       "    }\n",
       "</style>\n",
       "<table border=\"1\" class=\"dataframe\">\n",
       "  <thead>\n",
       "    <tr style=\"text-align: right;\">\n",
       "      <th></th>\n",
       "      <th>Essay_id</th>\n",
       "      <th>Actual_prompt</th>\n",
       "    </tr>\n",
       "  </thead>\n",
       "  <tbody>\n",
       "    <tr>\n",
       "      <th>0</th>\n",
       "      <td>365</td>\n",
       "      <td>Way to reduce the amount of traffic?</td>\n",
       "    </tr>\n",
       "    <tr>\n",
       "      <th>1</th>\n",
       "      <td>134</td>\n",
       "      <td>Qualification is still the fundamental determi...</td>\n",
       "    </tr>\n",
       "    <tr>\n",
       "      <th>2</th>\n",
       "      <td>131</td>\n",
       "      <td>The government should allocate more funds to p...</td>\n",
       "    </tr>\n",
       "    <tr>\n",
       "      <th>3</th>\n",
       "      <td>198</td>\n",
       "      <td>Improve roads or public transports</td>\n",
       "    </tr>\n",
       "    <tr>\n",
       "      <th>4</th>\n",
       "      <td>330</td>\n",
       "      <td>In personal live, we have some responsibilitie...</td>\n",
       "    </tr>\n",
       "  </tbody>\n",
       "</table>\n",
       "</div>"
      ],
      "text/plain": [
       "  Essay_id                                      Actual_prompt\n",
       "0      365               Way to reduce the amount of traffic?\n",
       "1      134  Qualification is still the fundamental determi...\n",
       "2      131  The government should allocate more funds to p...\n",
       "3      198                 Improve roads or public transports\n",
       "4      330  In personal live, we have some responsibilitie..."
      ]
     },
     "execution_count": 3,
     "metadata": {},
     "output_type": "execute_result"
    }
   ],
   "source": [
    "jsonFileInput = pd.read_json(trainFile, 'r')\n",
    "trainEssaySentenceDF = pd.DataFrame(columns=['Essay_id','Actual_prompt'])\n",
    "for row in jsonFileInput.iterrows():\n",
    "    essayText = row[1]['text']\n",
    "    promptSentence = row[1]['prompt']\n",
    "    dataToAppend = {'Essay_id':row[1]['id'],'Actual_prompt':promptSentence}\n",
    "    trainEssaySentenceDF = trainEssaySentenceDF.append(dataToAppend, ignore_index=True)\n",
    "\n",
    "trainEssaySentenceDF.head()"
   ]
  },
  {
   "cell_type": "markdown",
   "metadata": {},
   "source": [
    "## Collecting all nouns from the train prompt list"
   ]
  },
  {
   "cell_type": "code",
   "execution_count": 4,
   "metadata": {},
   "outputs": [],
   "source": [
    "inputDF = trainEssaySentenceDF\n",
    "import nltk\n",
    "nounList = list()\n",
    "for index,row in inputDF.iterrows():\n",
    "    txt = row['Actual_prompt']\n",
    "    for (word, pos) in nltk.pos_tag(nltk.word_tokenize(txt)):\n",
    "        if pos[0] == 'N':\n",
    "            nounList.append(word)"
   ]
  },
  {
   "cell_type": "markdown",
   "metadata": {},
   "source": [
    "## Creating \"noun\" to \"prompt phrase\" memory "
   ]
  },
  {
   "cell_type": "code",
   "execution_count": 5,
   "metadata": {},
   "outputs": [],
   "source": [
    "actual_promptList = trainEssaySentenceDF['Actual_prompt']\n",
    "learnedPromptDF = pd.DataFrame(columns=['noun','prompt'])\n",
    "for i in range(len(nounList)):\n",
    "    for prompt in actual_promptList:\n",
    "        prompt = prompt.lower()\n",
    "        if nounList[i].lower() in prompt.split():\n",
    "            if(len(prompt.split(nounList[i]))>1):\n",
    "                data = {'noun':nounList[i],'prompt':prompt.split(nounList[i])[1]}\n",
    "                learnedPromptDF = learnedPromptDF.append(data,ignore_index = True)\n",
    "\n",
    "learnedPromptDF= learnedPromptDF.drop_duplicates(keep='first')"
   ]
  },
  {
   "cell_type": "code",
   "execution_count": 6,
   "metadata": {},
   "outputs": [
    {
     "data": {
      "text/html": [
       "<div>\n",
       "<style scoped>\n",
       "    .dataframe tbody tr th:only-of-type {\n",
       "        vertical-align: middle;\n",
       "    }\n",
       "\n",
       "    .dataframe tbody tr th {\n",
       "        vertical-align: top;\n",
       "    }\n",
       "\n",
       "    .dataframe thead th {\n",
       "        text-align: right;\n",
       "    }\n",
       "</style>\n",
       "<table border=\"1\" class=\"dataframe\">\n",
       "  <thead>\n",
       "    <tr style=\"text-align: right;\">\n",
       "      <th></th>\n",
       "      <th>noun</th>\n",
       "      <th>prompt</th>\n",
       "    </tr>\n",
       "  </thead>\n",
       "  <tbody>\n",
       "    <tr>\n",
       "      <th>0</th>\n",
       "      <td>amount</td>\n",
       "      <td>of traffic?</td>\n",
       "    </tr>\n",
       "    <tr>\n",
       "      <th>1</th>\n",
       "      <td>amount</td>\n",
       "      <td>of time</td>\n",
       "    </tr>\n",
       "    <tr>\n",
       "      <th>2</th>\n",
       "      <td>amount</td>\n",
       "      <td>of violence in television programs</td>\n",
       "    </tr>\n",
       "    <tr>\n",
       "      <th>3</th>\n",
       "      <td>amount</td>\n",
       "      <td>of money on libraries and sports?</td>\n",
       "    </tr>\n",
       "    <tr>\n",
       "      <th>4</th>\n",
       "      <td>amount</td>\n",
       "      <td>of control on media information</td>\n",
       "    </tr>\n",
       "  </tbody>\n",
       "</table>\n",
       "</div>"
      ],
      "text/plain": [
       "     noun                               prompt\n",
       "0  amount                          of traffic?\n",
       "1  amount                              of time\n",
       "2  amount   of violence in television programs\n",
       "3  amount    of money on libraries and sports?\n",
       "4  amount      of control on media information"
      ]
     },
     "execution_count": 6,
     "metadata": {},
     "output_type": "execute_result"
    }
   ],
   "source": [
    "learnedPromptDF.head()"
   ]
  },
  {
   "cell_type": "markdown",
   "metadata": {},
   "source": [
    "##  Example: Predict a \"prompt phrase\" using a noun - if the noun is \"amount\""
   ]
  },
  {
   "cell_type": "code",
   "execution_count": 7,
   "metadata": {},
   "outputs": [
    {
     "data": {
      "text/html": [
       "<div>\n",
       "<style scoped>\n",
       "    .dataframe tbody tr th:only-of-type {\n",
       "        vertical-align: middle;\n",
       "    }\n",
       "\n",
       "    .dataframe tbody tr th {\n",
       "        vertical-align: top;\n",
       "    }\n",
       "\n",
       "    .dataframe thead th {\n",
       "        text-align: right;\n",
       "    }\n",
       "</style>\n",
       "<table border=\"1\" class=\"dataframe\">\n",
       "  <thead>\n",
       "    <tr style=\"text-align: right;\">\n",
       "      <th></th>\n",
       "      <th>noun</th>\n",
       "      <th>prompt</th>\n",
       "    </tr>\n",
       "  </thead>\n",
       "  <tbody>\n",
       "    <tr>\n",
       "      <th>0</th>\n",
       "      <td>amount</td>\n",
       "      <td>of traffic?</td>\n",
       "    </tr>\n",
       "    <tr>\n",
       "      <th>1</th>\n",
       "      <td>amount</td>\n",
       "      <td>of time</td>\n",
       "    </tr>\n",
       "    <tr>\n",
       "      <th>2</th>\n",
       "      <td>amount</td>\n",
       "      <td>of violence in television programs</td>\n",
       "    </tr>\n",
       "    <tr>\n",
       "      <th>3</th>\n",
       "      <td>amount</td>\n",
       "      <td>of money on libraries and sports?</td>\n",
       "    </tr>\n",
       "    <tr>\n",
       "      <th>4</th>\n",
       "      <td>amount</td>\n",
       "      <td>of control on media information</td>\n",
       "    </tr>\n",
       "  </tbody>\n",
       "</table>\n",
       "</div>"
      ],
      "text/plain": [
       "     noun                               prompt\n",
       "0  amount                          of traffic?\n",
       "1  amount                              of time\n",
       "2  amount   of violence in television programs\n",
       "3  amount    of money on libraries and sports?\n",
       "4  amount      of control on media information"
      ]
     },
     "execution_count": 7,
     "metadata": {},
     "output_type": "execute_result"
    }
   ],
   "source": [
    "learnedPromptDF[learnedPromptDF['noun']=='amount']"
   ]
  },
  {
   "cell_type": "markdown",
   "metadata": {},
   "source": [
    "## Discourse markers indicator list"
   ]
  },
  {
   "cell_type": "code",
   "execution_count": 8,
   "metadata": {},
   "outputs": [],
   "source": [
    "import re\n",
    "\n",
    "claim_indicator_word_list = [\"considering all\",\"in the end\",\"i advocate\",\"after analyzing\",\"many believe\",\n",
    "                       \"in a nutshell\",\"i favor\",\"personally\",\n",
    "                       \"all the above\",\"i support\",\"hence\",\"above reasons\",\n",
    "                       \"to summarize\",\"to conclude\",\"to conclude,\",\"consequently\",\n",
    "                       \"in my opinion\",\n",
    "                       \"agree\",\"it seems to me\",\n",
    "                       \"to sum up\",\"in conclusion\",\"i would conclude\",\"therefore\",\"in summary\",\n",
    "                       \"i firmly believe\",\"my view\", \"i believe\",\n",
    "                       \"i agree\",\"i prefer\",\"i completely agree\",\"i strongly prefer\",\n",
    "                       \"all in all\",\"from my experience\",\n",
    "                       \"i think\",\"i suppose\",\"my point of view\",\n",
    "                       \"based on the reasons\",\n",
    "                       \"accordingly\", \"as far as\",\"to me\", \"thus\", \"to sum up\"]"
   ]
  },
  {
   "cell_type": "markdown",
   "metadata": {},
   "source": [
    "## Extracting important sentence in Test Data using discourse indicator list"
   ]
  },
  {
   "cell_type": "code",
   "execution_count": 9,
   "metadata": {},
   "outputs": [
    {
     "data": {
      "text/html": [
       "<div>\n",
       "<style scoped>\n",
       "    .dataframe tbody tr th:only-of-type {\n",
       "        vertical-align: middle;\n",
       "    }\n",
       "\n",
       "    .dataframe tbody tr th {\n",
       "        vertical-align: top;\n",
       "    }\n",
       "\n",
       "    .dataframe thead th {\n",
       "        text-align: right;\n",
       "    }\n",
       "</style>\n",
       "<table border=\"1\" class=\"dataframe\">\n",
       "  <thead>\n",
       "    <tr style=\"text-align: right;\">\n",
       "      <th></th>\n",
       "      <th>Essay_id</th>\n",
       "      <th>text</th>\n",
       "      <th>promptIndicatorSentenceList</th>\n",
       "      <th>Actual_prompt</th>\n",
       "    </tr>\n",
       "  </thead>\n",
       "  <tbody>\n",
       "    <tr>\n",
       "      <th>0</th>\n",
       "      <td>373</td>\n",
       "      <td>[\"Capital punishment or the death penalty is a...</td>\n",
       "      <td>[, capital punishment is a form of legalized r...</td>\n",
       "      <td>Capital punishment; 51% countries have polishe...</td>\n",
       "    </tr>\n",
       "    <tr>\n",
       "      <th>1</th>\n",
       "      <td>61</td>\n",
       "      <td>[Computer-a device which has given a whole new...</td>\n",
       "      <td>[Computer-a device which has given a whole new...</td>\n",
       "      <td>Computers - use, future prospects and over-dep...</td>\n",
       "    </tr>\n",
       "    <tr>\n",
       "      <th>2</th>\n",
       "      <td>180</td>\n",
       "      <td>[During our life, it is inevitable that we may...</td>\n",
       "      <td>[in , groups provide a place for people to gai...</td>\n",
       "      <td>Why are groups or organizations important to p...</td>\n",
       "    </tr>\n",
       "    <tr>\n",
       "      <th>3</th>\n",
       "      <td>211</td>\n",
       "      <td>[Students have become more and more stressed d...</td>\n",
       "      <td>[however,  that it is not a good idea because ...</td>\n",
       "      <td>Non academic subjects should be removed from s...</td>\n",
       "    </tr>\n",
       "    <tr>\n",
       "      <th>4</th>\n",
       "      <td>229</td>\n",
       "      <td>[There is an argument regrading weather lettin...</td>\n",
       "      <td>[some people might say i am silly, but  mistak...</td>\n",
       "      <td>Friendship is more important than mistake by a...</td>\n",
       "    </tr>\n",
       "  </tbody>\n",
       "</table>\n",
       "</div>"
      ],
      "text/plain": [
       "  Essay_id                                               text  \\\n",
       "0      373  [\"Capital punishment or the death penalty is a...   \n",
       "1       61  [Computer-a device which has given a whole new...   \n",
       "2      180  [During our life, it is inevitable that we may...   \n",
       "3      211  [Students have become more and more stressed d...   \n",
       "4      229  [There is an argument regrading weather lettin...   \n",
       "\n",
       "                         promptIndicatorSentenceList  \\\n",
       "0  [, capital punishment is a form of legalized r...   \n",
       "1  [Computer-a device which has given a whole new...   \n",
       "2  [in , groups provide a place for people to gai...   \n",
       "3  [however,  that it is not a good idea because ...   \n",
       "4  [some people might say i am silly, but  mistak...   \n",
       "\n",
       "                                       Actual_prompt  \n",
       "0  Capital punishment; 51% countries have polishe...  \n",
       "1  Computers - use, future prospects and over-dep...  \n",
       "2  Why are groups or organizations important to p...  \n",
       "3  Non academic subjects should be removed from s...  \n",
       "4  Friendship is more important than mistake by a...  "
      ]
     },
     "execution_count": 9,
     "metadata": {},
     "output_type": "execute_result"
    }
   ],
   "source": [
    "jsonFileInput = pd.read_json(testFile, 'r')\n",
    "testEssaySentenceDF = pd.DataFrame(columns=['Essay_id','text','promptIndicatorSentenceList','Actual_prompt'])\n",
    "for row in jsonFileInput.iterrows():\n",
    "    essayText = row[1]['text']\n",
    "#     counter = counter + 1\n",
    "    tokens = nlp(essayText)\n",
    "    \n",
    "    promptSentence =row[1]['prompt']\n",
    "    sentList = list()\n",
    "    indicatorSentenceSet = set()\n",
    "    counter=0\n",
    "    for sent in tokens.sents:\n",
    "        if(counter==0):\n",
    "            counter = counter + 1\n",
    "            indicatorSentenceSet.add(sent.string.strip())\n",
    "        sentList.append(sent.string.strip())\n",
    "        searchString = sent.string.strip()\n",
    "        foundFlag = False\n",
    "        for i in range(len(claim_indicator_word_list)):\n",
    "            if claim_indicator_word_list[i] in searchString.lower():\n",
    "                searchString = searchString.lower().replace(claim_indicator_word_list[i],\"\")\n",
    "                foundFlag = True\n",
    "        if(foundFlag):\n",
    "            indicatorSentenceSet.add(searchString)\n",
    "    promptIndicatorSentenceList = list(indicatorSentenceSet)\n",
    "    dataToAppend = {'Essay_id':row[1]['id'],'text':sentList,'promptIndicatorSentenceList':promptIndicatorSentenceList,'Actual_prompt':promptSentence}\n",
    "    testEssaySentenceDF = testEssaySentenceDF.append(dataToAppend, ignore_index=True)\n",
    "\n",
    "testEssaySentenceDF.head()"
   ]
  },
  {
   "cell_type": "markdown",
   "metadata": {},
   "source": [
    "## Discourse Indicator sentence list of the first essay"
   ]
  },
  {
   "cell_type": "code",
   "execution_count": 10,
   "metadata": {},
   "outputs": [
    {
     "data": {
      "text/plain": [
       "[', capital punishment is a form of legalized revenge, it is an easy way for serious crimes, and nobody has rights to take others life; , it neither demines crimes of violence nor be essential to control violence in society.',\n",
       " '\"Capital punishment or the death penalty is a legal process whereby a person is put to death by the state as a punishment for a crime.\"',\n",
       " ', death penalty neither controls the violent in society nor creates a violent culture.',\n",
       " ',  it is no evidence about the reduction of crime rates due to the death penalty because of many reasons.']"
      ]
     },
     "execution_count": 10,
     "metadata": {},
     "output_type": "execute_result"
    }
   ],
   "source": [
    "testEssaySentenceDF['promptIndicatorSentenceList'][0]"
   ]
  },
  {
   "cell_type": "markdown",
   "metadata": {},
   "source": [
    "## Pick one sentence as possible prompt from the indicator sentence list by sentence ranking"
   ]
  },
  {
   "cell_type": "code",
   "execution_count": 11,
   "metadata": {},
   "outputs": [],
   "source": [
    "# code that ranks sentences based on commonly occuring words \n",
    "possiblePromptsDF = pd.DataFrame(columns=['id','promptIndicatorSentenceList','prompt','Actual_prompt'])\n",
    "from nltk.tokenize import word_tokenize\n",
    "for index,row in testEssaySentenceDF.iterrows():\n",
    "    corpus = row['promptIndicatorSentenceList']\n",
    "    tokenized_claim_words = [word_tokenize(i) for i in corpus]\n",
    "    word_list_claim=[]\n",
    "    for i in tokenized_claim_words:\n",
    "        for j in i:\n",
    "            word_list_claim.append(j)\n",
    "    claim_words_lower= [word.lower() for word in word_list_claim]\n",
    "    count_freq = nltk.FreqDist(claim_words_lower)\n",
    "    common=count_freq.most_common(10)\n",
    "    sentence_ranks= [0 for i in range(len(corpus))]\n",
    "    for i in range(len(corpus)):\n",
    "        for j in range(len(common)):\n",
    "            if  common[j][0] in corpus[i]:\n",
    "                sentence_ranks[i]+=1    \n",
    "    if(len(sentence_ranks)==0):\n",
    "        sentence_ranks=[0]\n",
    "        prompt=\" \"\n",
    "    else: \n",
    "        #print('Index',index)\n",
    "        toprank=max(sentence_ranks)\n",
    "        #print('sentence_rank',sentence_ranks)\n",
    "        \n",
    "        highest_ranker_pos=sentence_ranks.index(toprank)\n",
    "        #print('highest rank position',highest_ranker_pos)\n",
    "        prompt=row['promptIndicatorSentenceList'][highest_ranker_pos]\n",
    "        #print(prompt)\n",
    "\n",
    "    data = {'id':row['Essay_id'],'promptIndicatorSentenceList':row['promptIndicatorSentenceList'],'prompt':prompt,'Actual_prompt':row['Actual_prompt']}\n",
    "    possiblePromptsDF = possiblePromptsDF.append(data,ignore_index=True)"
   ]
  },
  {
   "cell_type": "code",
   "execution_count": 12,
   "metadata": {},
   "outputs": [
    {
     "data": {
      "text/html": [
       "<div>\n",
       "<style scoped>\n",
       "    .dataframe tbody tr th:only-of-type {\n",
       "        vertical-align: middle;\n",
       "    }\n",
       "\n",
       "    .dataframe tbody tr th {\n",
       "        vertical-align: top;\n",
       "    }\n",
       "\n",
       "    .dataframe thead th {\n",
       "        text-align: right;\n",
       "    }\n",
       "</style>\n",
       "<table border=\"1\" class=\"dataframe\">\n",
       "  <thead>\n",
       "    <tr style=\"text-align: right;\">\n",
       "      <th></th>\n",
       "      <th>id</th>\n",
       "      <th>promptIndicatorSentenceList</th>\n",
       "      <th>prompt</th>\n",
       "      <th>Actual_prompt</th>\n",
       "    </tr>\n",
       "  </thead>\n",
       "  <tbody>\n",
       "    <tr>\n",
       "      <th>0</th>\n",
       "      <td>373</td>\n",
       "      <td>[, capital punishment is a form of legalized r...</td>\n",
       "      <td>, capital punishment is a form of legalized re...</td>\n",
       "      <td>Capital punishment; 51% countries have polishe...</td>\n",
       "    </tr>\n",
       "    <tr>\n",
       "      <th>1</th>\n",
       "      <td>61</td>\n",
       "      <td>[Computer-a device which has given a whole new...</td>\n",
       "      <td>Computer-a device which has given a whole new ...</td>\n",
       "      <td>Computers - use, future prospects and over-dep...</td>\n",
       "    </tr>\n",
       "    <tr>\n",
       "      <th>2</th>\n",
       "      <td>180</td>\n",
       "      <td>[in , groups provide a place for people to gai...</td>\n",
       "      <td>During our life, it is inevitable that we may ...</td>\n",
       "      <td>Why are groups or organizations important to p...</td>\n",
       "    </tr>\n",
       "    <tr>\n",
       "      <th>3</th>\n",
       "      <td>211</td>\n",
       "      <td>[however,  that it is not a good idea because ...</td>\n",
       "      <td>, school education should not only focus on th...</td>\n",
       "      <td>Non academic subjects should be removed from s...</td>\n",
       "    </tr>\n",
       "    <tr>\n",
       "      <th>4</th>\n",
       "      <td>229</td>\n",
       "      <td>[some people might say i am silly, but  mistak...</td>\n",
       "      <td>however,  that friendship is more important th...</td>\n",
       "      <td>Friendship is more important than mistake by a...</td>\n",
       "    </tr>\n",
       "  </tbody>\n",
       "</table>\n",
       "</div>"
      ],
      "text/plain": [
       "    id                        promptIndicatorSentenceList  \\\n",
       "0  373  [, capital punishment is a form of legalized r...   \n",
       "1   61  [Computer-a device which has given a whole new...   \n",
       "2  180  [in , groups provide a place for people to gai...   \n",
       "3  211  [however,  that it is not a good idea because ...   \n",
       "4  229  [some people might say i am silly, but  mistak...   \n",
       "\n",
       "                                              prompt  \\\n",
       "0  , capital punishment is a form of legalized re...   \n",
       "1  Computer-a device which has given a whole new ...   \n",
       "2  During our life, it is inevitable that we may ...   \n",
       "3  , school education should not only focus on th...   \n",
       "4  however,  that friendship is more important th...   \n",
       "\n",
       "                                       Actual_prompt  \n",
       "0  Capital punishment; 51% countries have polishe...  \n",
       "1  Computers - use, future prospects and over-dep...  \n",
       "2  Why are groups or organizations important to p...  \n",
       "3  Non academic subjects should be removed from s...  \n",
       "4  Friendship is more important than mistake by a...  "
      ]
     },
     "execution_count": 12,
     "metadata": {},
     "output_type": "execute_result"
    }
   ],
   "source": [
    "possiblePromptsDF.head()"
   ]
  },
  {
   "cell_type": "code",
   "execution_count": 13,
   "metadata": {},
   "outputs": [
    {
     "data": {
      "text/html": [
       "<div>\n",
       "<style scoped>\n",
       "    .dataframe tbody tr th:only-of-type {\n",
       "        vertical-align: middle;\n",
       "    }\n",
       "\n",
       "    .dataframe tbody tr th {\n",
       "        vertical-align: top;\n",
       "    }\n",
       "\n",
       "    .dataframe thead th {\n",
       "        text-align: right;\n",
       "    }\n",
       "</style>\n",
       "<table border=\"1\" class=\"dataframe\">\n",
       "  <thead>\n",
       "    <tr style=\"text-align: right;\">\n",
       "      <th></th>\n",
       "      <th>id</th>\n",
       "      <th>prompt</th>\n",
       "      <th>Actual_prompt</th>\n",
       "    </tr>\n",
       "  </thead>\n",
       "  <tbody>\n",
       "    <tr>\n",
       "      <th>0</th>\n",
       "      <td>373</td>\n",
       "      <td>, capital punishment is a form of legalized re...</td>\n",
       "      <td>Capital punishment; 51% countries have polishe...</td>\n",
       "    </tr>\n",
       "    <tr>\n",
       "      <th>1</th>\n",
       "      <td>61</td>\n",
       "      <td>Computer-a device which has given a whole new ...</td>\n",
       "      <td>Computers - use, future prospects and over-dep...</td>\n",
       "    </tr>\n",
       "    <tr>\n",
       "      <th>2</th>\n",
       "      <td>180</td>\n",
       "      <td>During our life, it is inevitable that we may ...</td>\n",
       "      <td>Why are groups or organizations important to p...</td>\n",
       "    </tr>\n",
       "    <tr>\n",
       "      <th>3</th>\n",
       "      <td>211</td>\n",
       "      <td>, school education should not only focus on th...</td>\n",
       "      <td>Non academic subjects should be removed from s...</td>\n",
       "    </tr>\n",
       "    <tr>\n",
       "      <th>4</th>\n",
       "      <td>229</td>\n",
       "      <td>however,  that friendship is more important th...</td>\n",
       "      <td>Friendship is more important than mistake by a...</td>\n",
       "    </tr>\n",
       "  </tbody>\n",
       "</table>\n",
       "</div>"
      ],
      "text/plain": [
       "    id                                             prompt  \\\n",
       "0  373  , capital punishment is a form of legalized re...   \n",
       "1   61  Computer-a device which has given a whole new ...   \n",
       "2  180  During our life, it is inevitable that we may ...   \n",
       "3  211  , school education should not only focus on th...   \n",
       "4  229  however,  that friendship is more important th...   \n",
       "\n",
       "                                       Actual_prompt  \n",
       "0  Capital punishment; 51% countries have polishe...  \n",
       "1  Computers - use, future prospects and over-dep...  \n",
       "2  Why are groups or organizations important to p...  \n",
       "3  Non academic subjects should be removed from s...  \n",
       "4  Friendship is more important than mistake by a...  "
      ]
     },
     "execution_count": 13,
     "metadata": {},
     "output_type": "execute_result"
    }
   ],
   "source": [
    "possiblePromptsDF = possiblePromptsDF[['id','prompt','Actual_prompt']]\n",
    "possiblePromptsDF.head()"
   ]
  },
  {
   "cell_type": "markdown",
   "metadata": {},
   "source": [
    "## Predicting prompts in the test data using \"noun\" to \"prompt phrase\" memory"
   ]
  },
  {
   "cell_type": "code",
   "execution_count": 14,
   "metadata": {
    "scrolled": true
   },
   "outputs": [],
   "source": [
    "promptWithReplaceFromLearnedPrompt = pd.DataFrame(columns=['id','prompt'])\n",
    "\n",
    "from scipy import spatial\n",
    "inputDF = possiblePromptsDF\n",
    "\n",
    "for index,row in inputDF.iterrows():\n",
    "    txt = row['prompt']\n",
    "    generatedSet = \"\"\n",
    "    nounList = list()\n",
    "    for (word, pos) in nltk.pos_tag(nltk.word_tokenize(txt)):\n",
    "        if pos[0] == 'N':\n",
    "            nounList.append(word)\n",
    "    for i in range(len(nounList)):\n",
    "#         print(nounList[i])\n",
    "        possiblePrompts = list(learnedPromptDF[learnedPromptDF['noun']==nounList[i]]['prompt'])\n",
    "        if(len(possiblePrompts)>0):\n",
    "            prevSimilarity = 0\n",
    "            currentPossiblePrompt = \"\"\n",
    "            for j in range(len(possiblePrompts)):\n",
    "                embeddings = embed([txt,possiblePrompts[j]])\n",
    "                vA = embeddings[0]\n",
    "                vB = embeddings[1]\n",
    "                A=np.array(vA)\n",
    "                B=np.array(vB)\n",
    "\n",
    "                similarity = 1 - spatial.distance.cosine(A, B)\n",
    "                if(similarity>prevSimilarity and similarity>0.1):\n",
    "                    prevSimilarity = similarity\n",
    "                    currentPossiblePrompt = possiblePrompts[j]\n",
    "            \n",
    "            if(len(currentPossiblePrompt)>0):\n",
    "                generatedPrompt = \" \".join(currentPossiblePrompt.split()[0:5])\n",
    "                txt = txt.replace(nounList[i],nounList[i]+\" \"+generatedPrompt)\n",
    "    data = {'id':row['id'],'prompt':txt}\n",
    "    promptWithReplaceFromLearnedPrompt = promptWithReplaceFromLearnedPrompt.append(data,ignore_index=True)"
   ]
  },
  {
   "cell_type": "code",
   "execution_count": 15,
   "metadata": {},
   "outputs": [
    {
     "data": {
      "text/html": [
       "<div>\n",
       "<style scoped>\n",
       "    .dataframe tbody tr th:only-of-type {\n",
       "        vertical-align: middle;\n",
       "    }\n",
       "\n",
       "    .dataframe tbody tr th {\n",
       "        vertical-align: top;\n",
       "    }\n",
       "\n",
       "    .dataframe thead th {\n",
       "        text-align: right;\n",
       "    }\n",
       "</style>\n",
       "<table border=\"1\" class=\"dataframe\">\n",
       "  <thead>\n",
       "    <tr style=\"text-align: right;\">\n",
       "      <th></th>\n",
       "      <th>id</th>\n",
       "      <th>prompt</th>\n",
       "    </tr>\n",
       "  </thead>\n",
       "  <tbody>\n",
       "    <tr>\n",
       "      <th>0</th>\n",
       "      <td>373</td>\n",
       "      <td>, capital punishment is necessary or not? is a...</td>\n",
       "    </tr>\n",
       "    <tr>\n",
       "      <th>1</th>\n",
       "      <td>61</td>\n",
       "      <td>Computer-a device which has given a whole new ...</td>\n",
       "    </tr>\n",
       "    <tr>\n",
       "      <th>2</th>\n",
       "      <td>180</td>\n",
       "      <td>During our life starting from the the birth, i...</td>\n",
       "    </tr>\n",
       "    <tr>\n",
       "      <th>3</th>\n",
       "      <td>211</td>\n",
       "      <td>, school student either male or female shoulds...</td>\n",
       "    </tr>\n",
       "    <tr>\n",
       "      <th>4</th>\n",
       "      <td>229</td>\n",
       "      <td>however,  that friendship is more important th...</td>\n",
       "    </tr>\n",
       "  </tbody>\n",
       "</table>\n",
       "</div>"
      ],
      "text/plain": [
       "    id                                             prompt\n",
       "0  373  , capital punishment is necessary or not? is a...\n",
       "1   61  Computer-a device which has given a whole new ...\n",
       "2  180  During our life starting from the the birth, i...\n",
       "3  211  , school student either male or female shoulds...\n",
       "4  229  however,  that friendship is more important th..."
      ]
     },
     "execution_count": 15,
     "metadata": {},
     "output_type": "execute_result"
    }
   ],
   "source": [
    "promptWithReplaceFromLearnedPrompt.head()"
   ]
  },
  {
   "cell_type": "markdown",
   "metadata": {},
   "source": [
    "## Writing the predictions in json file"
   ]
  },
  {
   "cell_type": "code",
   "execution_count": 16,
   "metadata": {},
   "outputs": [],
   "source": [
    "with open('./../data/predictions.json', 'w', encoding='utf-8') as file:\n",
    "    promptWithReplaceFromLearnedPrompt.to_json(file, force_ascii=False,orient='records')"
   ]
  },
  {
   "cell_type": "code",
   "execution_count": null,
   "metadata": {},
   "outputs": [],
   "source": []
  }
 ],
 "metadata": {
  "kernelspec": {
   "display_name": "Python 3",
   "language": "python",
   "name": "python3"
  },
  "language_info": {
   "codemirror_mode": {
    "name": "ipython",
    "version": 3
   },
   "file_extension": ".py",
   "mimetype": "text/x-python",
   "name": "python",
   "nbconvert_exporter": "python",
   "pygments_lexer": "ipython3",
   "version": "3.7.7"
  }
 },
 "nbformat": 4,
 "nbformat_minor": 2
}
